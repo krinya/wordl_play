{
 "cells": [
  {
   "cell_type": "code",
   "execution_count": 92,
   "metadata": {},
   "outputs": [],
   "source": [
    "import nltk\n",
    "import numpy as np"
   ]
  },
  {
   "cell_type": "code",
   "execution_count": 95,
   "metadata": {},
   "outputs": [
    {
     "name": "stdout",
     "output_type": "stream",
     "text": [
      "236736\n",
      "25463\n"
     ]
    }
   ],
   "source": [
    "from nltk.corpus import words\n",
    "word_list = words.words()\n",
    "# prints 236736\n",
    "print(len(word_list))\n",
    "\n",
    "# or we can use more comomon words list first\n",
    "from english_words import english_words_lower_alpha_set\n",
    "word_list = english_words_lower_alpha_set\n",
    "print(len(word_list))"
   ]
  },
  {
   "cell_type": "code",
   "execution_count": 97,
   "metadata": {},
   "outputs": [
    {
     "data": {
      "text/plain": [
       "True"
      ]
     },
     "execution_count": 97,
     "metadata": {},
     "output_type": "execute_result"
    }
   ],
   "source": [
    "'ghost' in word_list"
   ]
  },
  {
   "cell_type": "code",
   "execution_count": 98,
   "metadata": {},
   "outputs": [
    {
     "data": {
      "text/plain": [
       "25463"
      ]
     },
     "execution_count": 98,
     "metadata": {},
     "output_type": "execute_result"
    }
   ],
   "source": [
    "len(word_list)"
   ]
  },
  {
   "cell_type": "code",
   "execution_count": 99,
   "metadata": {},
   "outputs": [],
   "source": [
    "# get 5 letter words from word_list\n",
    "five_letter_words = [w for w in word_list if len(w) == 5]"
   ]
  },
  {
   "cell_type": "code",
   "execution_count": 100,
   "metadata": {},
   "outputs": [
    {
     "data": {
      "text/plain": [
       "3213"
      ]
     },
     "execution_count": 100,
     "metadata": {},
     "output_type": "execute_result"
    }
   ],
   "source": [
    "len(five_letter_words)"
   ]
  },
  {
   "cell_type": "code",
   "execution_count": 101,
   "metadata": {},
   "outputs": [
    {
     "data": {
      "text/plain": [
       "'omega'"
      ]
     },
     "execution_count": 101,
     "metadata": {},
     "output_type": "execute_result"
    }
   ],
   "source": [
    "#select a random word from the list\n",
    "import random\n",
    "solution = random.choice(list(five_letter_words))\n",
    "solution"
   ]
  },
  {
   "cell_type": "code",
   "execution_count": 84,
   "metadata": {},
   "outputs": [],
   "source": [
    "def play_game():\n",
    "    # get a random word from the list\n",
    "    solution = random.choice(list(five_letter_words))\n",
    "    board = [\"0\"] * 5 * 6\n",
    "    score_board = [\"x\"] * 5 * 6\n",
    "    # print the board\n",
    "    print(board)\n",
    "    \n",
    "    def play_one_chance():\n",
    "        # get the player to enter a letter\n",
    "        word_input = input(\"Enter a word: \")\n",
    "        if word_input in five_letter_words:\n",
    "            print(\"Five letter word found!\")\n",
    "            return(word_input)\n",
    "        else:\n",
    "            print(\"No five letter word found!\")\n",
    "            return(play_one_chance())\n",
    "    \n",
    "    def update_score_board(score_board,i,word_input):\n",
    "        score_board[(i * 5):(5 + i * 5)] = [\"g\" if (word_input[w] in solution and  word_input[w]==solution[w]) else\n",
    "                \"y\" if (word_input[w] in solution and word_input[w]!=solution[w]) else \"b\" for w in range(5)]\n",
    "        return(score_board)\n",
    "\n",
    "\n",
    "    \n",
    "    for i in range(6):\n",
    "        word_input = play_one_chance()\n",
    "        if word_input == solution:\n",
    "            # convert srting to list\n",
    "            word_input = list(word_input)\n",
    "            board[(i * 5):(5 + i * 5)] = word_input\n",
    "\n",
    "            score_board = update_score_board(score_board,i,word_input)\n",
    "\n",
    "            print(board)\n",
    "            print(score_board)\n",
    "            print(\"Word found you win!\")\n",
    "            break\n",
    "        else:\n",
    "            print(\"Word not found!\")\n",
    "            # convert srting to list\n",
    "            word_input = list(word_input)\n",
    "            board[(i * 5):(5 + i * 5)] = word_input\n",
    "            score_board = update_score_board(score_board,i,word_input)\n",
    "\n",
    "            print(board) \n",
    "            print(score_board)\n",
    "\n",
    "\n",
    "    print(\"Game over!\")\n",
    "    print(\"The solution was: \" + solution)\n",
    "\n",
    "    return\n",
    "\n"
   ]
  },
  {
   "cell_type": "code",
   "execution_count": 87,
   "metadata": {},
   "outputs": [
    {
     "name": "stdout",
     "output_type": "stream",
     "text": [
      "['0', '0', '0', '0', '0', '0', '0', '0', '0', '0', '0', '0', '0', '0', '0', '0', '0', '0', '0', '0', '0', '0', '0', '0', '0', '0', '0', '0', '0', '0']\n",
      "Five letter word found!\n",
      "Word not found!\n",
      "['s', 't', 'a', 'r', 't', '0', '0', '0', '0', '0', '0', '0', '0', '0', '0', '0', '0', '0', '0', '0', '0', '0', '0', '0', '0', '0', '0', '0', '0', '0']\n",
      "['b', 'b', 'y', 'b', 'b', 'x', 'x', 'x', 'x', 'x', 'x', 'x', 'x', 'x', 'x', 'x', 'x', 'x', 'x', 'x', 'x', 'x', 'x', 'x', 'x', 'x', 'x', 'x', 'x', 'x']\n",
      "No five letter word found!\n",
      "No five letter word found!\n",
      "No five letter word found!\n",
      "Five letter word found!\n",
      "Word not found!\n",
      "['s', 't', 'a', 'r', 't', 'c', 'o', 'b', 'r', 'a', '0', '0', '0', '0', '0', '0', '0', '0', '0', '0', '0', '0', '0', '0', '0', '0', '0', '0', '0', '0']\n",
      "['b', 'b', 'y', 'b', 'b', 'b', 'b', 'b', 'b', 'y', 'x', 'x', 'x', 'x', 'x', 'x', 'x', 'x', 'x', 'x', 'x', 'x', 'x', 'x', 'x', 'x', 'x', 'x', 'x', 'x']\n",
      "No five letter word found!\n",
      "Five letter word found!\n",
      "Word not found!\n",
      "['s', 't', 'a', 'r', 't', 'c', 'o', 'b', 'r', 'a', 'c', 'o', 'b', 'r', 'a', '0', '0', '0', '0', '0', '0', '0', '0', '0', '0', '0', '0', '0', '0', '0']\n",
      "['b', 'b', 'y', 'b', 'b', 'b', 'b', 'b', 'b', 'y', 'b', 'b', 'b', 'b', 'y', 'x', 'x', 'x', 'x', 'x', 'x', 'x', 'x', 'x', 'x', 'x', 'x', 'x', 'x', 'x']\n",
      "Five letter word found!\n",
      "Word not found!\n",
      "['s', 't', 'a', 'r', 't', 'c', 'o', 'b', 'r', 'a', 'c', 'o', 'b', 'r', 'a', 'f', 'o', 'u', 'n', 'd', '0', '0', '0', '0', '0', '0', '0', '0', '0', '0']\n",
      "['b', 'b', 'y', 'b', 'b', 'b', 'b', 'b', 'b', 'y', 'b', 'b', 'b', 'b', 'y', 'b', 'b', 'b', 'b', 'b', 'x', 'x', 'x', 'x', 'x', 'x', 'x', 'x', 'x', 'x']\n",
      "Five letter word found!\n",
      "Word not found!\n",
      "['s', 't', 'a', 'r', 't', 'c', 'o', 'b', 'r', 'a', 'c', 'o', 'b', 'r', 'a', 'f', 'o', 'u', 'n', 'd', 'b', 'r', 'i', 'c', 'k', '0', '0', '0', '0', '0']\n",
      "['b', 'b', 'y', 'b', 'b', 'b', 'b', 'b', 'b', 'y', 'b', 'b', 'b', 'b', 'y', 'b', 'b', 'b', 'b', 'b', 'b', 'b', 'b', 'b', 'b', 'x', 'x', 'x', 'x', 'x']\n",
      "No five letter word found!\n",
      "No five letter word found!\n",
      "No five letter word found!\n",
      "No five letter word found!\n",
      "No five letter word found!\n",
      "Five letter word found!\n",
      "Word not found!\n",
      "['s', 't', 'a', 'r', 't', 'c', 'o', 'b', 'r', 'a', 'c', 'o', 'b', 'r', 'a', 'f', 'o', 'u', 'n', 'd', 'b', 'r', 'i', 'c', 'k', 's', 'o', 'u', 'n', 'd']\n",
      "['b', 'b', 'y', 'b', 'b', 'b', 'b', 'b', 'b', 'y', 'b', 'b', 'b', 'b', 'y', 'b', 'b', 'b', 'b', 'b', 'b', 'b', 'b', 'b', 'b', 'b', 'b', 'b', 'b', 'b']\n",
      "Game over!\n",
      "The solution was: gammy\n"
     ]
    }
   ],
   "source": [
    "play_game()"
   ]
  },
  {
   "cell_type": "code",
   "execution_count": null,
   "metadata": {},
   "outputs": [],
   "source": []
  }
 ],
 "metadata": {
  "interpreter": {
   "hash": "b3ba2566441a7c06988d0923437866b63cedc61552a5af99d1f4fb67d367b25f"
  },
  "kernelspec": {
   "display_name": "Python 3.8.8 64-bit ('base': conda)",
   "language": "python",
   "name": "python3"
  },
  "language_info": {
   "codemirror_mode": {
    "name": "ipython",
    "version": 3
   },
   "file_extension": ".py",
   "mimetype": "text/x-python",
   "name": "python",
   "nbconvert_exporter": "python",
   "pygments_lexer": "ipython3",
   "version": "3.8.8"
  },
  "orig_nbformat": 4
 },
 "nbformat": 4,
 "nbformat_minor": 2
}
