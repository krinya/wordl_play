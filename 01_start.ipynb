{
 "cells": [
  {
   "cell_type": "code",
   "execution_count": 365,
   "metadata": {},
   "outputs": [],
   "source": [
    "# import some packages\n",
    "\n",
    "import nltk\n",
    "from nltk.corpus import words\n",
    "import numpy as np\n",
    "import random\n",
    "from tqdm import tqdm\n",
    "import pandas as pd\n",
    "from english_words import english_words_lower_alpha_set\n",
    "import seaborn as sns\n",
    "sns.set_style(\"darkgrid\")"
   ]
  },
  {
   "cell_type": "markdown",
   "metadata": {},
   "source": [
    "# Import dictionaries with word lists"
   ]
  },
  {
   "cell_type": "markdown",
   "metadata": {},
   "source": [
    "## We have two choices:"
   ]
  },
  {
   "cell_type": "code",
   "execution_count": 331,
   "metadata": {},
   "outputs": [
    {
     "name": "stdout",
     "output_type": "stream",
     "text": [
      "25463\n",
      "236736\n"
     ]
    }
   ],
   "source": [
    "word_list = english_words_lower_alpha_set\n",
    "print(len(word_list)) # this contains only 25k words\n",
    "\n",
    "word_list = words.words()\n",
    "print(len(word_list)) # this word list contains many more words"
   ]
  },
  {
   "cell_type": "markdown",
   "metadata": {},
   "source": [
    "## Filter only for 5 letter words"
   ]
  },
  {
   "cell_type": "code",
   "execution_count": 332,
   "metadata": {},
   "outputs": [
    {
     "data": {
      "text/plain": [
       "10422"
      ]
     },
     "execution_count": 332,
     "metadata": {},
     "output_type": "execute_result"
    }
   ],
   "source": [
    "# get 5 letter words from word_list\n",
    "five_letter_words = [w for w in word_list if len(w) == 5]\n",
    "# convert all words to lower case\n",
    "five_letter_words = [w.lower() for w in five_letter_words]\n",
    "len(five_letter_words)"
   ]
  },
  {
   "cell_type": "markdown",
   "metadata": {},
   "source": [
    "We have 10k 5-letter words"
   ]
  },
  {
   "cell_type": "markdown",
   "metadata": {},
   "source": [
    "## Calculate letter frequency"
   ]
  },
  {
   "cell_type": "markdown",
   "metadata": {},
   "source": [
    "(maybe it would be better to calculate letter/word freq)"
   ]
  },
  {
   "cell_type": "code",
   "execution_count": 333,
   "metadata": {},
   "outputs": [],
   "source": [
    "#concat a list of words to a string\n",
    "def concat_list_to_string(list_of_words):\n",
    "    return ''.join(list_of_words)\n",
    "    \n",
    "one_string = concat_list_to_string(five_letter_words)\n",
    "\n",
    "def char_frequency(str1):\n",
    "    dict = {}\n",
    "    for n in str1:\n",
    "        keys = dict.keys()\n",
    "        if n in keys:\n",
    "            dict[n] += 1\n",
    "        else:\n",
    "            dict[n] = 1\n",
    "    return dict\n",
    "char_freq = char_frequency(one_string)\n",
    "\n",
    "char_freq_sorted = dict(sorted(char_freq.items(), key=lambda item: item[1], reverse=True))"
   ]
  },
  {
   "cell_type": "markdown",
   "metadata": {},
   "source": [
    "This is the letter frequency for each letter:"
   ]
  },
  {
   "cell_type": "code",
   "execution_count": 334,
   "metadata": {},
   "outputs": [
    {
     "data": {
      "text/plain": [
       "{'a': 5879,\n",
       " 'e': 5019,\n",
       " 'r': 3640,\n",
       " 'o': 3372,\n",
       " 'i': 3365,\n",
       " 's': 2954,\n",
       " 'l': 2848,\n",
       " 'n': 2827,\n",
       " 't': 2807,\n",
       " 'u': 2333,\n",
       " 'c': 1878,\n",
       " 'y': 1870,\n",
       " 'd': 1703,\n",
       " 'm': 1655,\n",
       " 'h': 1639,\n",
       " 'p': 1508,\n",
       " 'b': 1397,\n",
       " 'g': 1319,\n",
       " 'k': 1121,\n",
       " 'w': 764,\n",
       " 'f': 755,\n",
       " 'v': 555,\n",
       " 'z': 308,\n",
       " 'j': 251,\n",
       " 'x': 241,\n",
       " 'q': 102}"
      ]
     },
     "execution_count": 334,
     "metadata": {},
     "output_type": "execute_result"
    }
   ],
   "source": [
    "char_freq_sorted"
   ]
  },
  {
   "cell_type": "markdown",
   "metadata": {},
   "source": [
    "## Calculate a \"score for each letter what we can use later to be able to chose next words more efficiently"
   ]
  },
  {
   "cell_type": "code",
   "execution_count": 335,
   "metadata": {},
   "outputs": [],
   "source": [
    "# for each word in a list calculate letter score\n",
    "def letter_score(word):\n",
    "    score = 0\n",
    "    letter_list = []\n",
    "    for letter in word:\n",
    "        if letter not in letter_list:\n",
    "            score += char_freq_sorted[letter]\n",
    "        letter_list.append(letter)\n",
    "    return score"
   ]
  },
  {
   "cell_type": "code",
   "execution_count": 336,
   "metadata": {},
   "outputs": [],
   "source": [
    "letter_score_list = [letter_score(w) for w in five_letter_words]\n",
    "# create a dataframe with word and score\n",
    "df_word_score = pd.DataFrame({'word': five_letter_words, 'score': letter_score_list})\n",
    "# sort by score\n",
    "df_word_score = df_word_score.sort_values(by=['score'], ascending=False).reset_index(drop=True)\n",
    "df_word_score['unique_letters'] = df_word_score['word'].apply(lambda x: len(set(x)))\n",
    "#drop duplicates\n",
    "df_word_score = df_word_score.drop_duplicates(subset=['word'], keep='first').reset_index(drop=True)"
   ]
  },
  {
   "cell_type": "markdown",
   "metadata": {},
   "source": [
    "## Top words based on letter score"
   ]
  },
  {
   "cell_type": "code",
   "execution_count": 360,
   "metadata": {},
   "outputs": [
    {
     "data": {
      "text/html": [
       "<div>\n",
       "<style scoped>\n",
       "    .dataframe tbody tr th:only-of-type {\n",
       "        vertical-align: middle;\n",
       "    }\n",
       "\n",
       "    .dataframe tbody tr th {\n",
       "        vertical-align: top;\n",
       "    }\n",
       "\n",
       "    .dataframe thead th {\n",
       "        text-align: right;\n",
       "    }\n",
       "</style>\n",
       "<table border=\"1\" class=\"dataframe\">\n",
       "  <thead>\n",
       "    <tr style=\"text-align: right;\">\n",
       "      <th></th>\n",
       "      <th>word</th>\n",
       "      <th>score</th>\n",
       "      <th>unique_letters</th>\n",
       "    </tr>\n",
       "  </thead>\n",
       "  <tbody>\n",
       "    <tr>\n",
       "      <th>48</th>\n",
       "      <td>aisle</td>\n",
       "      <td>20065</td>\n",
       "      <td>5</td>\n",
       "    </tr>\n",
       "  </tbody>\n",
       "</table>\n",
       "</div>"
      ],
      "text/plain": [
       "     word  score  unique_letters\n",
       "48  aisle  20065               5"
      ]
     },
     "execution_count": 360,
     "metadata": {},
     "output_type": "execute_result"
    }
   ],
   "source": [
    "df_word_score[df_word_score['word'] == 'aisle']"
   ]
  },
  {
   "cell_type": "code",
   "execution_count": 337,
   "metadata": {},
   "outputs": [
    {
     "data": {
      "text/html": [
       "<div>\n",
       "<style scoped>\n",
       "    .dataframe tbody tr th:only-of-type {\n",
       "        vertical-align: middle;\n",
       "    }\n",
       "\n",
       "    .dataframe tbody tr th {\n",
       "        vertical-align: top;\n",
       "    }\n",
       "\n",
       "    .dataframe thead th {\n",
       "        text-align: right;\n",
       "    }\n",
       "</style>\n",
       "<table border=\"1\" class=\"dataframe\">\n",
       "  <thead>\n",
       "    <tr style=\"text-align: right;\">\n",
       "      <th></th>\n",
       "      <th>word</th>\n",
       "      <th>score</th>\n",
       "      <th>unique_letters</th>\n",
       "    </tr>\n",
       "  </thead>\n",
       "  <tbody>\n",
       "    <tr>\n",
       "      <th>0</th>\n",
       "      <td>arose</td>\n",
       "      <td>20864</td>\n",
       "      <td>5</td>\n",
       "    </tr>\n",
       "    <tr>\n",
       "      <th>1</th>\n",
       "      <td>oreas</td>\n",
       "      <td>20864</td>\n",
       "      <td>5</td>\n",
       "    </tr>\n",
       "    <tr>\n",
       "      <th>2</th>\n",
       "      <td>raise</td>\n",
       "      <td>20857</td>\n",
       "      <td>5</td>\n",
       "    </tr>\n",
       "    <tr>\n",
       "      <th>3</th>\n",
       "      <td>serai</td>\n",
       "      <td>20857</td>\n",
       "      <td>5</td>\n",
       "    </tr>\n",
       "    <tr>\n",
       "      <th>4</th>\n",
       "      <td>aries</td>\n",
       "      <td>20857</td>\n",
       "      <td>5</td>\n",
       "    </tr>\n",
       "    <tr>\n",
       "      <th>5</th>\n",
       "      <td>arise</td>\n",
       "      <td>20857</td>\n",
       "      <td>5</td>\n",
       "    </tr>\n",
       "    <tr>\n",
       "      <th>6</th>\n",
       "      <td>leora</td>\n",
       "      <td>20758</td>\n",
       "      <td>5</td>\n",
       "    </tr>\n",
       "    <tr>\n",
       "      <th>7</th>\n",
       "      <td>ariel</td>\n",
       "      <td>20751</td>\n",
       "      <td>5</td>\n",
       "    </tr>\n",
       "    <tr>\n",
       "      <th>8</th>\n",
       "      <td>erian</td>\n",
       "      <td>20730</td>\n",
       "      <td>5</td>\n",
       "    </tr>\n",
       "    <tr>\n",
       "      <th>9</th>\n",
       "      <td>reina</td>\n",
       "      <td>20730</td>\n",
       "      <td>5</td>\n",
       "    </tr>\n",
       "    <tr>\n",
       "      <th>10</th>\n",
       "      <td>irena</td>\n",
       "      <td>20730</td>\n",
       "      <td>5</td>\n",
       "    </tr>\n",
       "    <tr>\n",
       "      <th>11</th>\n",
       "      <td>orate</td>\n",
       "      <td>20717</td>\n",
       "      <td>5</td>\n",
       "    </tr>\n",
       "    <tr>\n",
       "      <th>12</th>\n",
       "      <td>artie</td>\n",
       "      <td>20710</td>\n",
       "      <td>5</td>\n",
       "    </tr>\n",
       "    <tr>\n",
       "      <th>13</th>\n",
       "      <td>irate</td>\n",
       "      <td>20710</td>\n",
       "      <td>5</td>\n",
       "    </tr>\n",
       "    <tr>\n",
       "      <th>14</th>\n",
       "      <td>tarie</td>\n",
       "      <td>20710</td>\n",
       "      <td>5</td>\n",
       "    </tr>\n",
       "    <tr>\n",
       "      <th>15</th>\n",
       "      <td>arite</td>\n",
       "      <td>20710</td>\n",
       "      <td>5</td>\n",
       "    </tr>\n",
       "    <tr>\n",
       "      <th>16</th>\n",
       "      <td>retia</td>\n",
       "      <td>20710</td>\n",
       "      <td>5</td>\n",
       "    </tr>\n",
       "    <tr>\n",
       "      <th>17</th>\n",
       "      <td>arles</td>\n",
       "      <td>20340</td>\n",
       "      <td>5</td>\n",
       "    </tr>\n",
       "    <tr>\n",
       "      <th>18</th>\n",
       "      <td>laser</td>\n",
       "      <td>20340</td>\n",
       "      <td>5</td>\n",
       "    </tr>\n",
       "    <tr>\n",
       "      <th>19</th>\n",
       "      <td>arsle</td>\n",
       "      <td>20340</td>\n",
       "      <td>5</td>\n",
       "    </tr>\n",
       "  </tbody>\n",
       "</table>\n",
       "</div>"
      ],
      "text/plain": [
       "     word  score  unique_letters\n",
       "0   arose  20864               5\n",
       "1   oreas  20864               5\n",
       "2   raise  20857               5\n",
       "3   serai  20857               5\n",
       "4   aries  20857               5\n",
       "5   arise  20857               5\n",
       "6   leora  20758               5\n",
       "7   ariel  20751               5\n",
       "8   erian  20730               5\n",
       "9   reina  20730               5\n",
       "10  irena  20730               5\n",
       "11  orate  20717               5\n",
       "12  artie  20710               5\n",
       "13  irate  20710               5\n",
       "14  tarie  20710               5\n",
       "15  arite  20710               5\n",
       "16  retia  20710               5\n",
       "17  arles  20340               5\n",
       "18  laser  20340               5\n",
       "19  arsle  20340               5"
      ]
     },
     "execution_count": 337,
     "metadata": {},
     "output_type": "execute_result"
    }
   ],
   "source": [
    "df_word_score[0:20]"
   ]
  },
  {
   "cell_type": "markdown",
   "metadata": {},
   "source": [
    "# Write the actual Wordl game"
   ]
  },
  {
   "cell_type": "code",
   "execution_count": 370,
   "metadata": {},
   "outputs": [],
   "source": [
    "def play_game(solution = 'random', five_letter_words_list = five_letter_words, player_play = False, starting_guess = 'random', silence = False, word_table = df_word_score):\n",
    "\n",
    "    top_words_table = word_table.copy()\n",
    "    five_letter_words_list = five_letter_words_list.copy()\n",
    "\n",
    "    if not silence:\n",
    "        print('choosing from this many words: ', len(five_letter_words_list))\n",
    "\n",
    "    # get a random word from the list\n",
    "    if solution == 'random':\n",
    "        solution = random.choice(list(five_letter_words_list))\n",
    "        \n",
    "        \n",
    "    board = [\"-\"] * 5 * 6\n",
    "    score_board = [\"0\"] * 5 * 6\n",
    "    score_list = []\n",
    "\n",
    "    green_score = '2'\n",
    "    yellow_score = '1'\n",
    "    black_score = '-1'\n",
    "\n",
    "\n",
    "    # print the board and score_board\n",
    "    if not silence:\n",
    "        print(board)\n",
    "        print(score_board)\n",
    "    \n",
    "    def play_one_chance():\n",
    "        # get the player to enter a letter\n",
    "        if player_play:\n",
    "\n",
    "            word_input = input(\"Enter a word: \")\n",
    "\n",
    "        else:\n",
    "\n",
    "            how_many_dash = board.count('-')\n",
    "\n",
    "            if starting_guess == 'random' and how_many_dash == 30:\n",
    "                #random chose from five_letter_words_list\n",
    "                word_input = random.choice(list(five_letter_words_list))\n",
    "\n",
    "            elif starting_guess != 'random' and how_many_dash == 30:\n",
    "                word_input = starting_guess\n",
    "                \n",
    "            elif how_many_dash < 30:\n",
    "\n",
    "                # this part can be more much more efficiently written\n",
    "                # right now in every round i check each letter from beginning to the end of previous rounds too\n",
    "                # there is no need to to check the letters that were already played because we check them when they are played\n",
    "\n",
    "                for i in range(len(score_board) - how_many_dash):\n",
    "\n",
    "                    if score_board[i] == green_score:\n",
    "                        for word in five_letter_words_list:\n",
    "                            if word[i % 5] != board[i]:\n",
    "                                five_letter_words_list.remove(word)\n",
    "\n",
    "                    if score_board[i] == yellow_score:\n",
    "                        for word in five_letter_words_list:\n",
    "                            if board[i] not in word:\n",
    "                                five_letter_words_list.remove(word)\n",
    "                    \n",
    "                    if score_board[i] == black_score:\n",
    "                        for word in five_letter_words_list:\n",
    "                            if board[i] in word:\n",
    "                                five_letter_words_list.remove(word)\n",
    "\n",
    "                # order the list by score\n",
    "                top_words_table_new = top_words_table[top_words_table['word'].isin(five_letter_words_list)]\n",
    "                top_words_table_new = top_words_table_new.sort_values(by=['score'], ascending=False).reset_index(drop=True)\n",
    "\n",
    "                #word_input = random.choice(list(five_letter_words_list))\n",
    "                word_input = top_words_table_new['word'][0]\n",
    "\n",
    "        if not silence:\n",
    "            print('choosing from this many words: ', len(five_letter_words_list))\n",
    "\n",
    "\n",
    "\n",
    "        if word_input in five_letter_words_list:\n",
    "            if not silence:\n",
    "                print(\"Five letter word found as input!\")\n",
    "            return(word_input)\n",
    "        else:\n",
    "            if not silence:\n",
    "                print(\"No five letter word found as input! Give something else!\")\n",
    "            return(play_one_chance())\n",
    "\n",
    "    def update_board(board,i,word_input):\n",
    "        board[(i * 5):(5 + i * 5)] = word_input\n",
    "        return(board)\n",
    "\n",
    "    def update_score_board(score_board,i,word_input):\n",
    "        score_board[(i * 5):(5 + i * 5)] = [green_score if (word_input[w] in solution and  word_input[w]==solution[w]) else \n",
    "                                            yellow_score if (word_input[w] in solution and word_input[w]!=solution[w]) else\n",
    "                                            black_score for w in range(5)]\n",
    "        return(score_board)\n",
    "\n",
    "    for i in range(6):\n",
    "\n",
    "        if not silence:\n",
    "            print('### Round: ', i + 1, ' ###')\n",
    "\n",
    "        word_input = play_one_chance()\n",
    "        \n",
    "        if not silence:\n",
    "            print('Given word: ', word_input)\n",
    "\n",
    "        if word_input == solution:\n",
    "            if not silence:\n",
    "                print(\"Solution found!\")\n",
    "            # convert string to list\n",
    "            word_input = list(word_input)\n",
    "\n",
    "            board = update_board(board,i,word_input)\n",
    "            score_board = update_score_board(score_board,i,word_input)\n",
    "\n",
    "            if not silence:\n",
    "                print(board)\n",
    "                print(score_board)\n",
    "            player_won = True\n",
    "            break\n",
    "        else:\n",
    "            if not silence:\n",
    "                print(\"Solution not found!\")\n",
    "            # convert string to list\n",
    "            word_input = list(word_input)\n",
    "\n",
    "            board = update_board(board,i,word_input)\n",
    "            score_board = update_score_board(score_board,i,word_input)\n",
    "\n",
    "            #calculate score\n",
    "            score_new = list(map(int, score_board))\n",
    "            score_new_total = 0\n",
    "            for numbers in score_new:\n",
    "                score_new_total = score_new_total + numbers\n",
    "            score_list.append(score_new_total)\n",
    "            if not silence:\n",
    "                print(board)\n",
    "                print(score_board)\n",
    "            player_won = False\n",
    "\n",
    "\n",
    "    if player_won == False:\n",
    "        if not silence:\n",
    "            print(\"Game over you lost!\")\n",
    "        score_list.append(-100)\n",
    "        score_list.append(-100)\n",
    "        won = 0\n",
    "    if player_won == True:\n",
    "        if not silence:\n",
    "            print(\"You won!\")\n",
    "        score_list.append(100)\n",
    "        won = 1\n",
    "    \n",
    "    total_score = sum(score_list)\n",
    "    \n",
    "    if not silence:\n",
    "        print(\"The solution was: \" + solution)\n",
    "        print(\"It took: \" + str(len(score_list) - 1) + \" rounds\")\n",
    "        print(\"Total score: \", total_score)\n",
    "        print(\"Score list: \", score_list)\n",
    "\n",
    "    return(won, (len(score_list) - 1))\n",
    "\n"
   ]
  },
  {
   "cell_type": "markdown",
   "metadata": {},
   "source": [
    "# Play the game"
   ]
  },
  {
   "cell_type": "markdown",
   "metadata": {},
   "source": [
    "using this the \"AI\" plays the game. But if you set the 'player_play' argument to True you can try it out yourself."
   ]
  },
  {
   "cell_type": "code",
   "execution_count": 377,
   "metadata": {},
   "outputs": [
    {
     "name": "stdout",
     "output_type": "stream",
     "text": [
      "choosing from this many words:  10422\n",
      "['-', '-', '-', '-', '-', '-', '-', '-', '-', '-', '-', '-', '-', '-', '-', '-', '-', '-', '-', '-', '-', '-', '-', '-', '-', '-', '-', '-', '-', '-']\n",
      "['0', '0', '0', '0', '0', '0', '0', '0', '0', '0', '0', '0', '0', '0', '0', '0', '0', '0', '0', '0', '0', '0', '0', '0', '0', '0', '0', '0', '0', '0']\n",
      "### Round:  1  ###\n",
      "choosing from this many words:  10422\n",
      "Five letter word found as input!\n",
      "Given word:  sound\n",
      "Solution not found!\n",
      "['s', 'o', 'u', 'n', 'd', '-', '-', '-', '-', '-', '-', '-', '-', '-', '-', '-', '-', '-', '-', '-', '-', '-', '-', '-', '-', '-', '-', '-', '-', '-']\n",
      "['-1', '-1', '-1', '-1', '-1', '0', '0', '0', '0', '0', '0', '0', '0', '0', '0', '0', '0', '0', '0', '0', '0', '0', '0', '0', '0', '0', '0', '0', '0', '0']\n",
      "### Round:  2  ###\n",
      "choosing from this many words:  4529\n",
      "Five letter word found as input!\n",
      "Given word:  serai\n",
      "Solution not found!\n",
      "['s', 'o', 'u', 'n', 'd', 's', 'e', 'r', 'a', 'i', '-', '-', '-', '-', '-', '-', '-', '-', '-', '-', '-', '-', '-', '-', '-', '-', '-', '-', '-', '-']\n",
      "['-1', '-1', '-1', '-1', '-1', '-1', '2', '-1', '-1', '-1', '0', '0', '0', '0', '0', '0', '0', '0', '0', '0', '0', '0', '0', '0', '0', '0', '0', '0', '0', '0']\n",
      "### Round:  3  ###\n",
      "choosing from this many words:  644\n",
      "Five letter word found as input!\n",
      "Given word:  relay\n",
      "Solution not found!\n",
      "['s', 'o', 'u', 'n', 'd', 's', 'e', 'r', 'a', 'i', 'r', 'e', 'l', 'a', 'y', '-', '-', '-', '-', '-', '-', '-', '-', '-', '-', '-', '-', '-', '-', '-']\n",
      "['-1', '-1', '-1', '-1', '-1', '-1', '2', '-1', '-1', '-1', '-1', '2', '1', '-1', '-1', '0', '0', '0', '0', '0', '0', '0', '0', '0', '0', '0', '0', '0', '0', '0']\n",
      "### Round:  4  ###\n",
      "choosing from this many words:  69\n",
      "Five letter word found as input!\n",
      "Given word:  leach\n",
      "Solution not found!\n",
      "['s', 'o', 'u', 'n', 'd', 's', 'e', 'r', 'a', 'i', 'r', 'e', 'l', 'a', 'y', 'l', 'e', 'a', 'c', 'h', '-', '-', '-', '-', '-', '-', '-', '-', '-', '-']\n",
      "['-1', '-1', '-1', '-1', '-1', '-1', '2', '-1', '-1', '-1', '-1', '2', '1', '-1', '-1', '1', '2', '-1', '-1', '-1', '0', '0', '0', '0', '0', '0', '0', '0', '0', '0']\n",
      "### Round:  5  ###\n",
      "choosing from this many words:  28\n",
      "Five letter word found as input!\n",
      "Given word:  kelty\n",
      "Solution not found!\n",
      "['s', 'o', 'u', 'n', 'd', 's', 'e', 'r', 'a', 'i', 'r', 'e', 'l', 'a', 'y', 'l', 'e', 'a', 'c', 'h', 'k', 'e', 'l', 't', 'y', '-', '-', '-', '-', '-']\n",
      "['-1', '-1', '-1', '-1', '-1', '-1', '2', '-1', '-1', '-1', '-1', '2', '1', '-1', '-1', '1', '2', '-1', '-1', '-1', '-1', '2', '1', '1', '-1', '0', '0', '0', '0', '0']\n",
      "### Round:  6  ###\n",
      "choosing from this many words:  14\n",
      "Five letter word found as input!\n",
      "Given word:  metel\n",
      "Solution found!\n",
      "['s', 'o', 'u', 'n', 'd', 's', 'e', 'r', 'a', 'i', 'r', 'e', 'l', 'a', 'y', 'l', 'e', 'a', 'c', 'h', 'k', 'e', 'l', 't', 'y', 'm', 'e', 't', 'e', 'l']\n",
      "['-1', '-1', '-1', '-1', '-1', '-1', '2', '-1', '-1', '-1', '-1', '2', '1', '-1', '-1', '1', '2', '-1', '-1', '-1', '-1', '2', '1', '1', '-1', '2', '2', '2', '2', '2']\n",
      "You won!\n",
      "The solution was: metel\n",
      "It took: 5 rounds\n",
      "Total score:  69\n",
      "Score list:  [-5, -7, -7, -7, -5, 100]\n"
     ]
    },
    {
     "data": {
      "text/plain": [
       "(1, 5)"
      ]
     },
     "execution_count": 377,
     "metadata": {},
     "output_type": "execute_result"
    }
   ],
   "source": [
    "play_game(player_play=False, solution = 'random', five_letter_words_list = five_letter_words, starting_guess='sound', silence=False)"
   ]
  },
  {
   "cell_type": "markdown",
   "metadata": {},
   "source": [
    "# Simulate games\n",
    "In this case 1000 times"
   ]
  },
  {
   "cell_type": "code",
   "execution_count": 378,
   "metadata": {},
   "outputs": [
    {
     "name": "stderr",
     "output_type": "stream",
     "text": [
      "  1%|▏         | 13/1000 [00:07<08:58,  1.83it/s]"
     ]
    }
   ],
   "source": [
    "won_list = []\n",
    "score_list = []\n",
    "\n",
    "times = 1000\n",
    "\n",
    "for i in tqdm(range(times)):\n",
    "    w, s = play_game(solution = 'random', five_letter_words_list = five_letter_words, starting_guess='aisle', silence=True)\n",
    "    won_list.append(w)\n",
    "    score_list.append(s)\n",
    "\n",
    "won_list = np.array(won_list)\n",
    "score_list = np.array(score_list)"
   ]
  },
  {
   "cell_type": "code",
   "execution_count": 363,
   "metadata": {},
   "outputs": [
    {
     "name": "stdout",
     "output_type": "stream",
     "text": [
      "0.421\n",
      "6.339\n"
     ]
    }
   ],
   "source": [
    "# mean of numpy array\n",
    "print(np.mean(won_list))\n",
    "print(np.mean(score_list))"
   ]
  },
  {
   "cell_type": "markdown",
   "metadata": {},
   "source": [
    "Currently the program solves the game in around 50% of the times. On average in 6.15 steps."
   ]
  },
  {
   "cell_type": "code",
   "execution_count": 367,
   "metadata": {},
   "outputs": [
    {
     "data": {
      "text/plain": [
       "<seaborn.axisgrid.FacetGrid at 0x1e5bb8ba4c0>"
      ]
     },
     "execution_count": 367,
     "metadata": {},
     "output_type": "execute_result"
    },
    {
     "data": {
      "image/png": "[encoded data removed]",
      "text/plain": [
       "<Figure size 360x360 with 1 Axes>"
      ]
     },
     "metadata": {},
     "output_type": "display_data"
    }
   ],
   "source": [
    "sns.displot(x=score_list, bins=[0, 1, 2, 3, 4, 5, 6, 7])"
   ]
  },
  {
   "cell_type": "code",
   "execution_count": null,
   "metadata": {},
   "outputs": [],
   "source": []
  }
 ],
 "metadata": {
  "interpreter": {
   "hash": "b3ba2566441a7c06988d0923437866b63cedc61552a5af99d1f4fb67d367b25f"
  },
  "kernelspec": {
   "display_name": "Python 3.8.8 64-bit ('base': conda)",
   "language": "python",
   "name": "python3"
  },
  "language_info": {
   "codemirror_mode": {
    "name": "ipython",
    "version": 3
   },
   "file_extension": ".py",
   "mimetype": "text/x-python",
   "name": "python",
   "nbconvert_exporter": "python",
   "pygments_lexer": "ipython3",
   "version": "3.8.8"
  },
  "orig_nbformat": 4
 },
 "nbformat": 4,
 "nbformat_minor": 2
}
