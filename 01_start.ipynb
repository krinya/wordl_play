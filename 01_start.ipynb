{
 "cells": [
  {
   "cell_type": "code",
   "execution_count": 1,
   "metadata": {},
   "outputs": [],
   "source": [
    "import nltk\n",
    "import numpy as np"
   ]
  },
  {
   "cell_type": "code",
   "execution_count": 2,
   "metadata": {},
   "outputs": [
    {
     "name": "stdout",
     "output_type": "stream",
     "text": [
      "236736\n",
      "25463\n"
     ]
    }
   ],
   "source": [
    "from nltk.corpus import words\n",
    "word_list = words.words()\n",
    "# prints 236736\n",
    "print(len(word_list))\n",
    "\n",
    "# or we can use more comomon words list first\n",
    "from english_words import english_words_lower_alpha_set\n",
    "word_list = english_words_lower_alpha_set\n",
    "print(len(word_list))"
   ]
  },
  {
   "cell_type": "code",
   "execution_count": 3,
   "metadata": {},
   "outputs": [
    {
     "data": {
      "text/plain": [
       "True"
      ]
     },
     "execution_count": 3,
     "metadata": {},
     "output_type": "execute_result"
    }
   ],
   "source": [
    "'ghost' in word_list"
   ]
  },
  {
   "cell_type": "code",
   "execution_count": 4,
   "metadata": {},
   "outputs": [
    {
     "data": {
      "text/plain": [
       "25463"
      ]
     },
     "execution_count": 4,
     "metadata": {},
     "output_type": "execute_result"
    }
   ],
   "source": [
    "len(word_list)"
   ]
  },
  {
   "cell_type": "code",
   "execution_count": 5,
   "metadata": {},
   "outputs": [],
   "source": [
    "# get 5 letter words from word_list\n",
    "five_letter_words = [w for w in word_list if len(w) == 5]"
   ]
  },
  {
   "cell_type": "code",
   "execution_count": 6,
   "metadata": {},
   "outputs": [
    {
     "data": {
      "text/plain": [
       "3213"
      ]
     },
     "execution_count": 6,
     "metadata": {},
     "output_type": "execute_result"
    }
   ],
   "source": [
    "len(five_letter_words)"
   ]
  },
  {
   "cell_type": "code",
   "execution_count": 7,
   "metadata": {},
   "outputs": [
    {
     "data": {
      "text/plain": [
       "'basal'"
      ]
     },
     "execution_count": 7,
     "metadata": {},
     "output_type": "execute_result"
    }
   ],
   "source": [
    "#select a random word from the list\n",
    "import random\n",
    "solution = random.choice(list(five_letter_words))\n",
    "solution"
   ]
  },
  {
   "cell_type": "code",
   "execution_count": 24,
   "metadata": {},
   "outputs": [],
   "source": [
    "def play_game(solution = 'random'):\n",
    "    # get a random word from the list\n",
    "    if solution == 'random':\n",
    "        solution = random.choice(list(five_letter_words))\n",
    "        \n",
    "    board = [\"0\"] * 5 * 6\n",
    "    score_board = [\"x\"] * 5 * 6\n",
    "    # print the board\n",
    "    print(board)\n",
    "    \n",
    "    def play_one_chance():\n",
    "        # get the player to enter a letter\n",
    "        word_input = input(\"Enter a word: \")\n",
    "        if word_input in five_letter_words:\n",
    "            print(\"Five letter word found as input!\")\n",
    "            return(word_input)\n",
    "        else:\n",
    "            print(\"No five letter word found as input! Give something else!\")\n",
    "            return(play_one_chance())\n",
    "\n",
    "    def update_board(board,i,word_input):\n",
    "        board[(i * 5):(5 + i * 5)] = word_input\n",
    "        return(board)\n",
    "\n",
    "    def update_score_board(score_board,i,word_input):\n",
    "        score_board[(i * 5):(5 + i * 5)] = [\"g\" if (word_input[w] in solution and  word_input[w]==solution[w]) else\n",
    "                \"y\" if (word_input[w] in solution and word_input[w]!=solution[w]) else \"b\" for w in range(5)]\n",
    "        return(score_board)\n",
    "\n",
    "    for i in range(6):\n",
    "        word_input = play_one_chance()\n",
    "        if word_input == solution:\n",
    "            # convert string to list\n",
    "            word_input = list(word_input)\n",
    "\n",
    "            board = update_board(board,i,word_input)\n",
    "            score_board = update_score_board(score_board,i,word_input)\n",
    "\n",
    "            print(board)\n",
    "            print(score_board)\n",
    "            print(\"Solution found!\")\n",
    "\n",
    "            player_won = True\n",
    "            break\n",
    "        else:\n",
    "            print(\"Solution not found!\")\n",
    "            # convert string to list\n",
    "            word_input = list(word_input)\n",
    "\n",
    "            board = update_board(board,i,word_input)\n",
    "            score_board = update_score_board(score_board,i,word_input)\n",
    "\n",
    "            print(board) \n",
    "            print(score_board)\n",
    "            player_won = False\n",
    "\n",
    "\n",
    "    if player_won == False:\n",
    "        print(\"Game over you lost!\")\n",
    "    if player_won == True:\n",
    "        print(\"You won!\")\n",
    "\n",
    "    print(\"The solution was: \" + solution)\n",
    "\n",
    "    return\n",
    "\n"
   ]
  },
  {
   "cell_type": "code",
   "execution_count": 23,
   "metadata": {},
   "outputs": [
    {
     "name": "stdout",
     "output_type": "stream",
     "text": [
      "['0', '0', '0', '0', '0', '0', '0', '0', '0', '0', '0', '0', '0', '0', '0', '0', '0', '0', '0', '0', '0', '0', '0', '0', '0', '0', '0', '0', '0', '0']\n",
      "Five letter word found as input!\n",
      "Solution not found!\n",
      "['a', 'p', 'p', 'l', 'e', '0', '0', '0', '0', '0', '0', '0', '0', '0', '0', '0', '0', '0', '0', '0', '0', '0', '0', '0', '0', '0', '0', '0', '0', '0']\n",
      "['b', 'b', 'b', 'b', 'b', 'x', 'x', 'x', 'x', 'x', 'x', 'x', 'x', 'x', 'x', 'x', 'x', 'x', 'x', 'x', 'x', 'x', 'x', 'x', 'x', 'x', 'x', 'x', 'x', 'x']\n",
      "Five letter word found as input!\n",
      "Solution not found!\n",
      "['a', 'p', 'p', 'l', 'e', 'p', 'h', 'o', 'n', 'e', '0', '0', '0', '0', '0', '0', '0', '0', '0', '0', '0', '0', '0', '0', '0', '0', '0', '0', '0', '0']\n",
      "['b', 'b', 'b', 'b', 'b', 'b', 'b', 'y', 'g', 'b', 'x', 'x', 'x', 'x', 'x', 'x', 'x', 'x', 'x', 'x', 'x', 'x', 'x', 'x', 'x', 'x', 'x', 'x', 'x', 'x']\n",
      "Five letter word found as input!\n",
      "['a', 'p', 'p', 'l', 'e', 'p', 'h', 'o', 'n', 'e', 's', 'o', 'u', 'n', 'd', '0', '0', '0', '0', '0', '0', '0', '0', '0', '0', '0', '0', '0', '0', '0']\n",
      "['b', 'b', 'b', 'b', 'b', 'b', 'b', 'y', 'g', 'b', 'g', 'g', 'g', 'g', 'g', 'x', 'x', 'x', 'x', 'x', 'x', 'x', 'x', 'x', 'x', 'x', 'x', 'x', 'x', 'x']\n",
      "Solution found! You win!\n",
      "You win!\n",
      "The solution was: sound\n"
     ]
    }
   ],
   "source": [
    "play_game('sound')"
   ]
  },
  {
   "cell_type": "code",
   "execution_count": null,
   "metadata": {},
   "outputs": [],
   "source": []
  }
 ],
 "metadata": {
  "interpreter": {
   "hash": "b3ba2566441a7c06988d0923437866b63cedc61552a5af99d1f4fb67d367b25f"
  },
  "kernelspec": {
   "display_name": "Python 3.8.8 64-bit ('base': conda)",
   "language": "python",
   "name": "python3"
  },
  "language_info": {
   "codemirror_mode": {
    "name": "ipython",
    "version": 3
   },
   "file_extension": ".py",
   "mimetype": "text/x-python",
   "name": "python",
   "nbconvert_exporter": "python",
   "pygments_lexer": "ipython3",
   "version": "3.8.8"
  },
  "orig_nbformat": 4
 },
 "nbformat": 4,
 "nbformat_minor": 2
}
