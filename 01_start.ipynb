{
 "cells": [
  {
   "cell_type": "code",
   "execution_count": 55,
   "metadata": {},
   "outputs": [],
   "source": [
    "# import some packages\n",
    "\n",
    "import nltk\n",
    "from nltk.corpus import words\n",
    "import numpy as np\n",
    "import random\n",
    "from tqdm import tqdm\n",
    "import pandas as pd\n",
    "from english_words import english_words_lower_alpha_set\n",
    "import seaborn as sns\n",
    "sns.set_style(\"darkgrid\")"
   ]
  },
  {
   "cell_type": "markdown",
   "metadata": {},
   "source": [
    "# Import word lists"
   ]
  },
  {
   "cell_type": "markdown",
   "metadata": {},
   "source": [
    "## We have two choices:"
   ]
  },
  {
   "cell_type": "code",
   "execution_count": 56,
   "metadata": {},
   "outputs": [
    {
     "name": "stdout",
     "output_type": "stream",
     "text": [
      "25463\n",
      "236736\n"
     ]
    }
   ],
   "source": [
    "word_list = english_words_lower_alpha_set\n",
    "print(len(word_list)) # this contains only 25k words\n",
    "\n",
    "word_list = words.words()\n",
    "print(len(word_list)) # this word list contains many more words"
   ]
  },
  {
   "cell_type": "markdown",
   "metadata": {},
   "source": [
    "## Filter only for 5 letter words"
   ]
  },
  {
   "cell_type": "code",
   "execution_count": 57,
   "metadata": {},
   "outputs": [
    {
     "data": {
      "text/plain": [
       "10422"
      ]
     },
     "execution_count": 57,
     "metadata": {},
     "output_type": "execute_result"
    }
   ],
   "source": [
    "# get 5 letter words from word_list\n",
    "five_letter_words = [w for w in word_list if len(w) == 5]\n",
    "# convert all words to lower case\n",
    "five_letter_words = [w.lower() for w in five_letter_words]\n",
    "len(five_letter_words)"
   ]
  },
  {
   "cell_type": "code",
   "execution_count": 58,
   "metadata": {},
   "outputs": [
    {
     "name": "stdout",
     "output_type": "stream",
     "text": [
      "12972\n"
     ]
    }
   ],
   "source": [
    "# read in text file coma delimiter\n",
    "text_file = open(\"wordl_word_list.txt\", \"r\")\n",
    "word_word_list = text_file.read()\n",
    "word_word_list = word_word_list.split(\",\")\n",
    "text_file.close()\n",
    "print(len(word_word_list))\n",
    "\n",
    "five_letter_words = word_word_list"
   ]
  },
  {
   "cell_type": "markdown",
   "metadata": {},
   "source": [
    "We have 10k 5-letter words"
   ]
  },
  {
   "cell_type": "markdown",
   "metadata": {},
   "source": [
    "## Calculate letter frequency"
   ]
  },
  {
   "cell_type": "markdown",
   "metadata": {},
   "source": [
    "(maybe it would be better to calculate letter/word freq)"
   ]
  },
  {
   "cell_type": "code",
   "execution_count": 59,
   "metadata": {},
   "outputs": [],
   "source": [
    "#concat a list of words to a string\n",
    "def concat_list_to_string(list_of_words):\n",
    "    return ''.join(list_of_words)\n",
    "    \n",
    "one_string = concat_list_to_string(five_letter_words)\n",
    "\n",
    "def char_frequency(str1):\n",
    "    dict = {}\n",
    "    for n in str1:\n",
    "        keys = dict.keys()\n",
    "        if n in keys:\n",
    "            dict[n] += 1\n",
    "        else:\n",
    "            dict[n] = 1\n",
    "    return dict\n",
    "    \n",
    "char_freq = char_frequency(one_string)\n",
    "\n",
    "char_freq_sorted = dict(sorted(char_freq.items(), key=lambda item: item[1], reverse=True))"
   ]
  },
  {
   "cell_type": "markdown",
   "metadata": {},
   "source": [
    "This is the letter frequency for each letter:"
   ]
  },
  {
   "cell_type": "code",
   "execution_count": 60,
   "metadata": {},
   "outputs": [
    {
     "data": {
      "text/plain": [
       "{'s': 6665,\n",
       " 'e': 6662,\n",
       " 'a': 5991,\n",
       " 'o': 4438,\n",
       " 'r': 4158,\n",
       " 'i': 3759,\n",
       " 'l': 3371,\n",
       " 't': 3295,\n",
       " 'n': 2952,\n",
       " 'u': 2511,\n",
       " 'd': 2453,\n",
       " 'y': 2074,\n",
       " 'c': 2028,\n",
       " 'p': 2019,\n",
       " 'm': 1976,\n",
       " 'h': 1760,\n",
       " 'g': 1644,\n",
       " 'b': 1627,\n",
       " 'k': 1505,\n",
       " 'f': 1115,\n",
       " 'w': 1039,\n",
       " 'v': 694,\n",
       " 'z': 434,\n",
       " 'j': 291,\n",
       " 'x': 288,\n",
       " 'q': 112,\n",
       " ']': 1,\n",
       " 'T': 1,\n",
       " '=': 1,\n",
       " '[': 1}"
      ]
     },
     "execution_count": 60,
     "metadata": {},
     "output_type": "execute_result"
    }
   ],
   "source": [
    "char_freq_sorted"
   ]
  },
  {
   "cell_type": "markdown",
   "metadata": {},
   "source": [
    "## Calculate a \"score for each letter what we can use later to be able to chose next words more efficiently"
   ]
  },
  {
   "cell_type": "code",
   "execution_count": 61,
   "metadata": {},
   "outputs": [],
   "source": [
    "# for each word in a list calculate letter score\n",
    "def letter_score(word):\n",
    "    score = 0\n",
    "    letter_list = []\n",
    "    for letter in word:\n",
    "        if letter not in letter_list:\n",
    "            score += char_freq_sorted[letter]\n",
    "        letter_list.append(letter)\n",
    "    return score"
   ]
  },
  {
   "cell_type": "code",
   "execution_count": 62,
   "metadata": {},
   "outputs": [],
   "source": [
    "letter_score_list = [letter_score(w) for w in five_letter_words]\n",
    "# create a dataframe with word and score\n",
    "df_word_score = pd.DataFrame({'word': five_letter_words, 'score': letter_score_list})\n",
    "# sort by score\n",
    "df_word_score = df_word_score.sort_values(by=['score'], ascending=False).reset_index(drop=True)\n",
    "df_word_score['unique_letters'] = df_word_score['word'].apply(lambda x: len(set(x)))\n",
    "#drop duplicates\n",
    "df_word_score = df_word_score.drop_duplicates(subset=['word'], keep='first').reset_index(drop=True)"
   ]
  },
  {
   "cell_type": "markdown",
   "metadata": {},
   "source": [
    "## Top words based on letter score"
   ]
  },
  {
   "cell_type": "code",
   "execution_count": 63,
   "metadata": {},
   "outputs": [
    {
     "data": {
      "text/html": [
       "<div>\n",
       "<style scoped>\n",
       "    .dataframe tbody tr th:only-of-type {\n",
       "        vertical-align: middle;\n",
       "    }\n",
       "\n",
       "    .dataframe tbody tr th {\n",
       "        vertical-align: top;\n",
       "    }\n",
       "\n",
       "    .dataframe thead th {\n",
       "        text-align: right;\n",
       "    }\n",
       "</style>\n",
       "<table border=\"1\" class=\"dataframe\">\n",
       "  <thead>\n",
       "    <tr style=\"text-align: right;\">\n",
       "      <th></th>\n",
       "      <th>word</th>\n",
       "      <th>score</th>\n",
       "      <th>unique_letters</th>\n",
       "    </tr>\n",
       "  </thead>\n",
       "  <tbody>\n",
       "    <tr>\n",
       "      <th>0</th>\n",
       "      <td>soare</td>\n",
       "      <td>27914</td>\n",
       "      <td>5</td>\n",
       "    </tr>\n",
       "    <tr>\n",
       "      <th>1</th>\n",
       "      <td>aeros</td>\n",
       "      <td>27914</td>\n",
       "      <td>5</td>\n",
       "    </tr>\n",
       "    <tr>\n",
       "      <th>2</th>\n",
       "      <td>arose</td>\n",
       "      <td>27914</td>\n",
       "      <td>5</td>\n",
       "    </tr>\n",
       "    <tr>\n",
       "      <th>3</th>\n",
       "      <td>aesir</td>\n",
       "      <td>27235</td>\n",
       "      <td>5</td>\n",
       "    </tr>\n",
       "    <tr>\n",
       "      <th>4</th>\n",
       "      <td>serai</td>\n",
       "      <td>27235</td>\n",
       "      <td>5</td>\n",
       "    </tr>\n",
       "    <tr>\n",
       "      <th>5</th>\n",
       "      <td>arise</td>\n",
       "      <td>27235</td>\n",
       "      <td>5</td>\n",
       "    </tr>\n",
       "    <tr>\n",
       "      <th>6</th>\n",
       "      <td>raise</td>\n",
       "      <td>27235</td>\n",
       "      <td>5</td>\n",
       "    </tr>\n",
       "    <tr>\n",
       "      <th>7</th>\n",
       "      <td>reais</td>\n",
       "      <td>27235</td>\n",
       "      <td>5</td>\n",
       "    </tr>\n",
       "    <tr>\n",
       "      <th>8</th>\n",
       "      <td>aloes</td>\n",
       "      <td>27127</td>\n",
       "      <td>5</td>\n",
       "    </tr>\n",
       "    <tr>\n",
       "      <th>9</th>\n",
       "      <td>stoae</td>\n",
       "      <td>27051</td>\n",
       "      <td>5</td>\n",
       "    </tr>\n",
       "    <tr>\n",
       "      <th>10</th>\n",
       "      <td>toeas</td>\n",
       "      <td>27051</td>\n",
       "      <td>5</td>\n",
       "    </tr>\n",
       "    <tr>\n",
       "      <th>11</th>\n",
       "      <td>rales</td>\n",
       "      <td>26847</td>\n",
       "      <td>5</td>\n",
       "    </tr>\n",
       "    <tr>\n",
       "      <th>12</th>\n",
       "      <td>laers</td>\n",
       "      <td>26847</td>\n",
       "      <td>5</td>\n",
       "    </tr>\n",
       "    <tr>\n",
       "      <th>13</th>\n",
       "      <td>earls</td>\n",
       "      <td>26847</td>\n",
       "      <td>5</td>\n",
       "    </tr>\n",
       "    <tr>\n",
       "      <th>14</th>\n",
       "      <td>arles</td>\n",
       "      <td>26847</td>\n",
       "      <td>5</td>\n",
       "    </tr>\n",
       "    <tr>\n",
       "      <th>15</th>\n",
       "      <td>lears</td>\n",
       "      <td>26847</td>\n",
       "      <td>5</td>\n",
       "    </tr>\n",
       "    <tr>\n",
       "      <th>16</th>\n",
       "      <td>seral</td>\n",
       "      <td>26847</td>\n",
       "      <td>5</td>\n",
       "    </tr>\n",
       "    <tr>\n",
       "      <th>17</th>\n",
       "      <td>lares</td>\n",
       "      <td>26847</td>\n",
       "      <td>5</td>\n",
       "    </tr>\n",
       "    <tr>\n",
       "      <th>18</th>\n",
       "      <td>laser</td>\n",
       "      <td>26847</td>\n",
       "      <td>5</td>\n",
       "    </tr>\n",
       "    <tr>\n",
       "      <th>19</th>\n",
       "      <td>reals</td>\n",
       "      <td>26847</td>\n",
       "      <td>5</td>\n",
       "    </tr>\n",
       "  </tbody>\n",
       "</table>\n",
       "</div>"
      ],
      "text/plain": [
       "     word  score  unique_letters\n",
       "0   soare  27914               5\n",
       "1   aeros  27914               5\n",
       "2   arose  27914               5\n",
       "3   aesir  27235               5\n",
       "4   serai  27235               5\n",
       "5   arise  27235               5\n",
       "6   raise  27235               5\n",
       "7   reais  27235               5\n",
       "8   aloes  27127               5\n",
       "9   stoae  27051               5\n",
       "10  toeas  27051               5\n",
       "11  rales  26847               5\n",
       "12  laers  26847               5\n",
       "13  earls  26847               5\n",
       "14  arles  26847               5\n",
       "15  lears  26847               5\n",
       "16  seral  26847               5\n",
       "17  lares  26847               5\n",
       "18  laser  26847               5\n",
       "19  reals  26847               5"
      ]
     },
     "execution_count": 63,
     "metadata": {},
     "output_type": "execute_result"
    }
   ],
   "source": [
    "df_word_score[0:20]"
   ]
  },
  {
   "cell_type": "markdown",
   "metadata": {},
   "source": [
    "# Import all possible solutions based on Wordl word lists that can be found in the source code of Wordl"
   ]
  },
  {
   "cell_type": "code",
   "execution_count": 64,
   "metadata": {},
   "outputs": [
    {
     "data": {
      "text/plain": [
       "2315"
      ]
     },
     "execution_count": 64,
     "metadata": {},
     "output_type": "execute_result"
    }
   ],
   "source": [
    "solution_list = pd.read_csv(\"words.csv\")\n",
    "solution_list = solution_list['word']\n",
    "solution_list.tolist()\n",
    "len(solution_list)"
   ]
  },
  {
   "cell_type": "markdown",
   "metadata": {},
   "source": [
    "# Write the actual Wordl game"
   ]
  },
  {
   "cell_type": "code",
   "execution_count": 65,
   "metadata": {},
   "outputs": [],
   "source": [
    "def play_game(solution = 'random', solution_list = solution_list, five_letter_words_list = five_letter_words,\n",
    "                player_play = False, starting_guess = 'random', silence = False, word_table = df_word_score, strategy = 1):\n",
    "\n",
    "    top_words_table = word_table.copy()\n",
    "    five_letter_words_list = five_letter_words_list.copy()\n",
    "\n",
    "    if not silence:\n",
    "        print('choosing from this many words: ', len(five_letter_words_list))\n",
    "\n",
    "    # get a random word from the list. This is the word that we need to figure out\n",
    "    if solution == 'random':\n",
    "        solution = random.choice(list(solution_list))\n",
    "        \n",
    "        \n",
    "    board = [\"-\"] * 5 * 6\n",
    "    score_board = [\"0\"] * 5 * 6\n",
    "    score_list = []\n",
    "\n",
    "    green_score = '2'\n",
    "    yellow_score = '1'\n",
    "    black_score = '-1'\n",
    "\n",
    "\n",
    "    # print the empty board and score_board\n",
    "    if not silence:\n",
    "        print(board)\n",
    "        print(score_board)\n",
    "    \n",
    "    def play_one_chance():\n",
    "\n",
    "        # get the player to enter a letter\n",
    "        if player_play:\n",
    "\n",
    "            word_input = input(\"Enter a word: \")\n",
    "\n",
    "        else:\n",
    "\n",
    "            how_many_dash = board.count('-')\n",
    "\n",
    "            # do this at the 1st round\n",
    "            if starting_guess == 'random' and how_many_dash == 30:\n",
    "                #random chose from five_letter_words_list\n",
    "                word_input = random.choice(list(five_letter_words_list))\n",
    "\n",
    "            elif starting_guess != 'random' and how_many_dash == 30:\n",
    "                word_input = starting_guess\n",
    "            \n",
    "            # when we are not the 1st round\n",
    "            elif how_many_dash < 30:\n",
    "\n",
    "                # this part can be much more efficiently written\n",
    "                # right now in every round i check each letter from beginning to the end of the previous rounds too\n",
    "                # there is no need to to check the letters that were already played because we can check them when they are played\n",
    "\n",
    "                for i in range(len(score_board) - how_many_dash):\n",
    "\n",
    "                    if score_board[i] == green_score:\n",
    "                        for word in five_letter_words_list:\n",
    "                            if word[i % 5] != board[i]:\n",
    "                                five_letter_words_list.remove(word)\n",
    "\n",
    "                    if score_board[i] == yellow_score:\n",
    "                        for word in five_letter_words_list:\n",
    "\n",
    "                            if board[i] not in word:\n",
    "                                five_letter_words_list.remove(word)\n",
    "\n",
    "                            if word[i % 5] == board[i]:\n",
    "                                five_letter_words_list.remove(word)\n",
    "                        \n",
    "                    \n",
    "                    if score_board[i] == black_score:\n",
    "                        for word in five_letter_words_list:\n",
    "                            if board[i] in word:\n",
    "                                five_letter_words_list.remove(word)\n",
    "\n",
    "                # choose the next word\n",
    "                if strategy == 1:\n",
    "                    #concat a list of words to a string\n",
    "                    def concat_list_to_string(list_of_words):\n",
    "                        return ''.join(list_of_words)\n",
    "                        \n",
    "                    one_string = concat_list_to_string(five_letter_words_list)\n",
    "\n",
    "                    def char_frequency(str1):\n",
    "                        dict = {}\n",
    "                        for n in str1:\n",
    "                            keys = dict.keys()\n",
    "                            if n in keys:\n",
    "                                dict[n] += 1\n",
    "                            else:\n",
    "                                dict[n] = 1\n",
    "                        return dict\n",
    "                        \n",
    "                    char_freq = char_frequency(one_string)\n",
    "\n",
    "                    char_freq_sorted = dict(sorted(char_freq.items(), key=lambda item: item[1], reverse=True))                  \n",
    "\n",
    "                    #concat a list of words to a string\n",
    "                    def concat_list_to_string(list_of_words):\n",
    "                        return ''.join(list_of_words)\n",
    "                        \n",
    "                    one_string = concat_list_to_string(five_letter_words_list)\n",
    "\n",
    "                    def char_frequency(str1):\n",
    "                        dict = {}\n",
    "                        for n in str1:\n",
    "                            keys = dict.keys()\n",
    "                            if n in keys:\n",
    "                                dict[n] += 1\n",
    "                            else:\n",
    "                                dict[n] = 1\n",
    "                        return dict\n",
    "                        \n",
    "                    char_freq = char_frequency(one_string)\n",
    "\n",
    "                    char_freq_sorted = dict(sorted(char_freq.items(), key=lambda item: item[1], reverse=True))\n",
    "\n",
    "                    # for each word in a list calculate letter score\n",
    "                    def letter_score(word):\n",
    "                        score = 0\n",
    "                        letter_list = []\n",
    "                        for letter in word:\n",
    "                            if letter not in letter_list:\n",
    "                                score += char_freq_sorted[letter]\n",
    "                            letter_list.append(letter)\n",
    "                        return score\n",
    "                        \n",
    "\n",
    "                    letter_score_list = [letter_score(w) for w in five_letter_words_list]\n",
    "                    # create a dataframe with word and score\n",
    "                    df_word_score = pd.DataFrame({'word': five_letter_words_list, 'score': letter_score_list})\n",
    "                    # sort by score\n",
    "                    df_word_score = df_word_score.sort_values(by=['score'], ascending=False).reset_index(drop=True)\n",
    "                    df_word_score['unique_letters'] = df_word_score['word'].apply(lambda x: len(set(x)))\n",
    "                    #drop duplicates\n",
    "                    df_word_score = df_word_score.drop_duplicates(subset=['word'], keep='first').reset_index(drop=True)\n",
    "\n",
    "                    #word_input = random.choice(list(five_letter_words_list))\n",
    "                    word_input = df_word_score['word'][0]\n",
    "\n",
    "                if strategy == 2:\n",
    "                    \n",
    "                    max_word_to_choose_score = 0\n",
    "                    new_word = random.choice(list(five_letter_words_list))\n",
    "\n",
    "                    for word in five_letter_words_list:\n",
    "                        \n",
    "                        word_to_choose_score = 0\n",
    "\n",
    "                        for word2 in five_letter_words_list:\n",
    "                            \n",
    "                            letters_in_word = []\n",
    "\n",
    "                            for one_letter in range(len(word)):\n",
    "                                if word[one_letter] in word2 and word[one_letter] not in letters_in_word:\n",
    "                                    word_to_choose_score = word_to_choose_score + 1\n",
    "                                letters_in_word.append(word[one_letter])\n",
    "\n",
    "                        if word_to_choose_score > max_word_to_choose_score:\n",
    "                            #print(word)\n",
    "                            max_word_to_choose_score = word_to_choose_score\n",
    "                            new_word = word\n",
    "                        \n",
    "                    word_input = new_word\n",
    "\n",
    "                if strategy == 3:\n",
    "                    word_input = random.choice(list(five_letter_words_list))\n",
    "\n",
    "\n",
    "        if not silence:\n",
    "            print('choosing from this many words: ', len(five_letter_words_list))\n",
    "\n",
    "\n",
    "        if word_input in five_letter_words_list:\n",
    "            \n",
    "            if not silence:\n",
    "                print(\"Five letter word found as input!\")\n",
    "                \n",
    "            return(word_input)\n",
    "        else:\n",
    "            \n",
    "            if not silence:\n",
    "                print(\"No five letter word found as input! Give something else!\")\n",
    "            \n",
    "            return(play_one_chance())\n",
    "\n",
    "    def update_board(board,i,word_input):\n",
    "        board[(i * 5):(5 + i * 5)] = word_input\n",
    "        return(board)\n",
    "\n",
    "    def update_score_board(score_board,i,word_input):\n",
    "        score_board[(i * 5):(5 + i * 5)] = [green_score if (word_input[w] in solution and  word_input[w]==solution[w]) else \n",
    "                                            yellow_score if (word_input[w] in solution and word_input[w]!=solution[w]) else\n",
    "                                            black_score for w in range(5)]\n",
    "        return(score_board)\n",
    "\n",
    "    for i in range(6):\n",
    "\n",
    "        if not silence:\n",
    "            print('### Round: ', i + 1, ' ###')\n",
    "\n",
    "        word_input = play_one_chance()\n",
    "        \n",
    "        if not silence:\n",
    "            print('Given word: ', word_input)\n",
    "\n",
    "        if word_input == solution:\n",
    "            if not silence:\n",
    "                print(\"Solution found!\")\n",
    "            # convert string to list\n",
    "            word_input = list(word_input)\n",
    "\n",
    "            board = update_board(board,i,word_input)\n",
    "            score_board = update_score_board(score_board,i,word_input)\n",
    "\n",
    "            #calculate score\n",
    "            score_new = list(map(int, score_board))\n",
    "            score_new_total = 0\n",
    "            for numbers in score_new:\n",
    "                score_new_total = score_new_total + numbers\n",
    "            score_list.append(score_new_total)\n",
    "\n",
    "            if not silence:\n",
    "                print(board)\n",
    "                print(score_board)\n",
    "            player_won = True\n",
    "            break\n",
    "        else:\n",
    "            if not silence:\n",
    "                print(\"Solution not found!\")\n",
    "            # convert string to list\n",
    "            word_input = list(word_input)\n",
    "\n",
    "            board = update_board(board,i,word_input)\n",
    "            score_board = update_score_board(score_board,i,word_input)\n",
    "\n",
    "            #calculate score\n",
    "            score_new = list(map(int, score_board))\n",
    "            score_new_total = 0\n",
    "            for numbers in score_new:\n",
    "                score_new_total = score_new_total + numbers\n",
    "            score_list.append(score_new_total)\n",
    "            if not silence:\n",
    "                print(board)\n",
    "                print(score_board)\n",
    "            player_won = False\n",
    "\n",
    "\n",
    "    if player_won == False:\n",
    "        if not silence:\n",
    "            print(\"Game over you lost!\")\n",
    "        score_list.append(-100)\n",
    "        score_list.append(-100)\n",
    "        won = 0\n",
    "    if player_won == True:\n",
    "        if not silence:\n",
    "            print(\"You won!\")\n",
    "        score_list.append(100)\n",
    "        won = 1\n",
    "    \n",
    "    total_score = sum(score_list)\n",
    "    \n",
    "    if not silence:\n",
    "        print(\"The solution was: \" + solution)\n",
    "        print(\"It took: \" + str(len(score_list) - 1) + \" rounds\")\n",
    "        print(\"Total score: \", total_score)\n",
    "        print(\"Score list: \", score_list)\n",
    "\n",
    "    return(won, (len(score_list) - 1))\n",
    "\n"
   ]
  },
  {
   "cell_type": "markdown",
   "metadata": {},
   "source": [
    "# Play the game"
   ]
  },
  {
   "cell_type": "markdown",
   "metadata": {},
   "source": [
    "Using this function the we or the \"AI\" can pay the game. If you run the function like this the AI will play. But if you set the 'player_play' argument to True you can try it out yourself."
   ]
  },
  {
   "cell_type": "code",
   "execution_count": 66,
   "metadata": {},
   "outputs": [
    {
     "name": "stdout",
     "output_type": "stream",
     "text": [
      "choosing from this many words:  12972\n",
      "['-', '-', '-', '-', '-', '-', '-', '-', '-', '-', '-', '-', '-', '-', '-', '-', '-', '-', '-', '-', '-', '-', '-', '-', '-', '-', '-', '-', '-', '-']\n",
      "['0', '0', '0', '0', '0', '0', '0', '0', '0', '0', '0', '0', '0', '0', '0', '0', '0', '0', '0', '0', '0', '0', '0', '0', '0', '0', '0', '0', '0', '0']\n",
      "### Round:  1  ###\n",
      "choosing from this many words:  12972\n",
      "Five letter word found as input!\n",
      "Given word:  sound\n",
      "Solution not found!\n",
      "['s', 'o', 'u', 'n', 'd', '-', '-', '-', '-', '-', '-', '-', '-', '-', '-', '-', '-', '-', '-', '-', '-', '-', '-', '-', '-', '-', '-', '-', '-', '-']\n",
      "['-1', '-1', '-1', '-1', '1', '0', '0', '0', '0', '0', '0', '0', '0', '0', '0', '0', '0', '0', '0', '0', '0', '0', '0', '0', '0', '0', '0', '0', '0', '0']\n",
      "### Round:  2  ###\n",
      "choosing from this many words:  2816\n",
      "Five letter word found as input!\n",
      "Given word:  redia\n",
      "Solution not found!\n",
      "['s', 'o', 'u', 'n', 'd', 'r', 'e', 'd', 'i', 'a', '-', '-', '-', '-', '-', '-', '-', '-', '-', '-', '-', '-', '-', '-', '-', '-', '-', '-', '-', '-']\n",
      "['-1', '-1', '-1', '-1', '1', '-1', '2', '1', '-1', '1', '0', '0', '0', '0', '0', '0', '0', '0', '0', '0', '0', '0', '0', '0', '0', '0', '0', '0', '0', '0']\n",
      "### Round:  3  ###\n",
      "choosing from this many words:  142\n",
      "Five letter word found as input!\n",
      "Given word:  leady\n",
      "Solution not found!\n",
      "['s', 'o', 'u', 'n', 'd', 'r', 'e', 'd', 'i', 'a', 'l', 'e', 'a', 'd', 'y', '-', '-', '-', '-', '-', '-', '-', '-', '-', '-', '-', '-', '-', '-', '-']\n",
      "['-1', '-1', '-1', '-1', '1', '-1', '2', '1', '-1', '1', '1', '2', '1', '1', '-1', '0', '0', '0', '0', '0', '0', '0', '0', '0', '0', '0', '0', '0', '0', '0']\n",
      "### Round:  4  ###\n",
      "choosing from this many words:  6\n",
      "Five letter word found as input!\n",
      "Given word:  delay\n",
      "Solution not found!\n",
      "['s', 'o', 'u', 'n', 'd', 'r', 'e', 'd', 'i', 'a', 'l', 'e', 'a', 'd', 'y', 'd', 'e', 'l', 'a', 'y', '-', '-', '-', '-', '-', '-', '-', '-', '-', '-']\n",
      "['-1', '-1', '-1', '-1', '1', '-1', '2', '1', '-1', '1', '1', '2', '1', '1', '-1', '2', '2', '1', '2', '-1', '0', '0', '0', '0', '0', '0', '0', '0', '0', '0']\n",
      "### Round:  5  ###\n",
      "choosing from this many words:  1\n",
      "Five letter word found as input!\n",
      "Given word:  decal\n",
      "Solution found!\n",
      "['s', 'o', 'u', 'n', 'd', 'r', 'e', 'd', 'i', 'a', 'l', 'e', 'a', 'd', 'y', 'd', 'e', 'l', 'a', 'y', 'd', 'e', 'c', 'a', 'l', '-', '-', '-', '-', '-']\n",
      "['-1', '-1', '-1', '-1', '1', '-1', '2', '1', '-1', '1', '1', '2', '1', '1', '-1', '2', '2', '1', '2', '-1', '2', '2', '2', '2', '2', '0', '0', '0', '0', '0']\n",
      "You won!\n",
      "The solution was: decal\n",
      "It took: 5 rounds\n",
      "Total score:  127\n",
      "Score list:  [-3, -1, 3, 9, 19, 100]\n"
     ]
    },
    {
     "data": {
      "text/plain": [
       "(1, 5)"
      ]
     },
     "execution_count": 66,
     "metadata": {},
     "output_type": "execute_result"
    }
   ],
   "source": [
    "play_game(player_play=False, solution = 'random', five_letter_words_list = five_letter_words, starting_guess='sound', silence=False, strategy=1)"
   ]
  },
  {
   "cell_type": "markdown",
   "metadata": {},
   "source": [
    "# Simulate games\n",
    "In this case 1000 times"
   ]
  },
  {
   "cell_type": "code",
   "execution_count": 67,
   "metadata": {},
   "outputs": [],
   "source": [
    "times = 1000\n",
    "starting_word = 'sound'"
   ]
  },
  {
   "cell_type": "code",
   "execution_count": 68,
   "metadata": {},
   "outputs": [
    {
     "name": "stderr",
     "output_type": "stream",
     "text": [
      "100%|██████████| 1000/1000 [09:49<00:00,  1.70it/s]\n"
     ]
    },
    {
     "name": "stdout",
     "output_type": "stream",
     "text": [
      "Win ratio:  0.762\n",
      "Avarage rounds to solve:  5.746\n"
     ]
    },
    {
     "data": {
      "text/plain": [
       "<seaborn.axisgrid.FacetGrid at 0x2296e1b79d0>"
      ]
     },
     "execution_count": 68,
     "metadata": {},
     "output_type": "execute_result"
    },
    {
     "data": {
      "image/png": "[encoded data removed]",
      "text/plain": [
       "<Figure size 360x360 with 1 Axes>"
      ]
     },
     "metadata": {},
     "output_type": "display_data"
    }
   ],
   "source": [
    "won_list = []\n",
    "score_list = []\n",
    "\n",
    "for i in tqdm(range(times)):\n",
    "    w, s = play_game(solution = 'random', five_letter_words_list = five_letter_words, starting_guess=starting_word, silence=True, strategy=3)\n",
    "    won_list.append(w)\n",
    "    score_list.append(s)\n",
    "\n",
    "won_list = np.array(won_list)\n",
    "score_list = np.array(score_list)\n",
    "# mean of numpy array\n",
    "print(\"Win ratio: \",np.mean(won_list))\n",
    "print(\"Avarage rounds to solve: \",np.mean(score_list))\n",
    "\n",
    "sns.displot(x=score_list, bins=[0, 1, 2, 3, 4, 5, 6, 7], discrete=True)"
   ]
  },
  {
   "cell_type": "code",
   "execution_count": 69,
   "metadata": {},
   "outputs": [
    {
     "name": "stderr",
     "output_type": "stream",
     "text": [
      "100%|██████████| 1000/1000 [10:05<00:00,  1.65it/s]"
     ]
    },
    {
     "name": "stdout",
     "output_type": "stream",
     "text": [
      "Win ratio:  0.926\n",
      "Avarage rounds to solve:  4.942\n"
     ]
    },
    {
     "name": "stderr",
     "output_type": "stream",
     "text": [
      "\n"
     ]
    },
    {
     "data": {
      "text/plain": [
       "<seaborn.axisgrid.FacetGrid at 0x2296c8fceb0>"
      ]
     },
     "execution_count": 69,
     "metadata": {},
     "output_type": "execute_result"
    },
    {
     "data": {
      "image/png": "[encoded data removed]",
      "text/plain": [
       "<Figure size 360x360 with 1 Axes>"
      ]
     },
     "metadata": {},
     "output_type": "display_data"
    }
   ],
   "source": [
    "won_list = []\n",
    "score_list = []\n",
    "\n",
    "for i in tqdm(range(times)):\n",
    "    w, s = play_game(solution = 'random', five_letter_words_list = five_letter_words, starting_guess=starting_word, silence=True, strategy=1)\n",
    "    won_list.append(w)\n",
    "    score_list.append(s)\n",
    "\n",
    "won_list = np.array(won_list)\n",
    "score_list = np.array(score_list)\n",
    "# mean of numpy array\n",
    "print(\"Win ratio: \",np.mean(won_list))\n",
    "print(\"Avarage rounds to solve: \",np.mean(score_list))\n",
    "\n",
    "\n",
    "sns.displot(x=score_list, bins=[0, 1, 2, 3, 4, 5, 6, 7], discrete=True)\n",
    "# 7 means game over"
   ]
  },
  {
   "cell_type": "code",
   "execution_count": 70,
   "metadata": {},
   "outputs": [
    {
     "name": "stderr",
     "output_type": "stream",
     "text": [
      "100%|██████████| 1000/1000 [5:12:45<00:00, 18.77s/it] \n"
     ]
    },
    {
     "name": "stdout",
     "output_type": "stream",
     "text": [
      "Win ratio:  0.926\n",
      "Avarage rounds to solve:  4.877\n"
     ]
    },
    {
     "data": {
      "text/plain": [
       "<seaborn.axisgrid.FacetGrid at 0x2296e0b6c40>"
      ]
     },
     "execution_count": 70,
     "metadata": {},
     "output_type": "execute_result"
    },
    {
     "data": {
      "image/png": "[encoded data removed]",
      "text/plain": [
       "<Figure size 360x360 with 1 Axes>"
      ]
     },
     "metadata": {},
     "output_type": "display_data"
    }
   ],
   "source": [
    "won_list = []\n",
    "score_list = []\n",
    "\n",
    "for i in tqdm(range(times)):\n",
    "    w, s = play_game(solution = 'random', five_letter_words_list = five_letter_words, starting_guess=starting_word, silence=True, strategy=2)\n",
    "    won_list.append(w)\n",
    "    score_list.append(s)\n",
    "\n",
    "won_list = np.array(won_list)\n",
    "score_list = np.array(score_list)\n",
    "# mean of numpy array\n",
    "print(\"Win ratio: \",np.mean(won_list))\n",
    "print(\"Avarage rounds to solve: \",np.mean(score_list))\n",
    "\n",
    "\n",
    "sns.displot(x=score_list, bins=[0, 1, 2, 3, 4, 5, 6, 7], discrete=True)\n",
    "# 7 means game over"
   ]
  }
 ],
 "metadata": {
  "interpreter": {
   "hash": "b3ba2566441a7c06988d0923437866b63cedc61552a5af99d1f4fb67d367b25f"
  },
  "kernelspec": {
   "display_name": "Python 3.8.8 64-bit ('base': conda)",
   "language": "python",
   "name": "python3"
  },
  "language_info": {
   "codemirror_mode": {
    "name": "ipython",
    "version": 3
   },
   "file_extension": ".py",
   "mimetype": "text/x-python",
   "name": "python",
   "nbconvert_exporter": "python",
   "pygments_lexer": "ipython3",
   "version": "3.8.8"
  },
  "orig_nbformat": 4
 },
 "nbformat": 4,
 "nbformat_minor": 2
}
